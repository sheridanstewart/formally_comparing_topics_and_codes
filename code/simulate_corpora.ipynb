{
 "cells": [
  {
   "cell_type": "code",
   "execution_count": 2,
   "metadata": {},
   "outputs": [],
   "source": [
    "import matplotlib.pyplot as plt\n",
    "import numpy as np\n",
    "import os\n",
    "import pandas as pd\n",
    "import time"
   ]
  },
  {
   "cell_type": "code",
   "execution_count": null,
   "metadata": {},
   "outputs": [],
   "source": [
    "f = \"ngrams_df.csv\"\n",
    "corpus = pd.read_csv(f)\n",
    "corpus = corpus[\"text\"]"
   ]
  },
  {
   "cell_type": "code",
   "execution_count": null,
   "metadata": {},
   "outputs": [],
   "source": [
    "doc_sizes = [len(doc.split()) for doc in corpus]\n",
    "vocab = []\n",
    "for doc in corpus:\n",
    "    vocab += doc.split()"
   ]
  },
  {
   "cell_type": "code",
   "execution_count": null,
   "metadata": {},
   "outputs": [],
   "source": [
    "print(len(corpus))\n",
    "print(len(vocab))"
   ]
  },
  {
   "cell_type": "code",
   "execution_count": null,
   "metadata": {},
   "outputs": [],
   "source": [
    "def simulate_document(doc_sizes, vocab):\n",
    "    \"\"\"Creates a random document using a random\n",
    "    document length (from document lengths in the\n",
    "    real corpus) and random tokens (from the\n",
    "    tokens in the real corpus)\"\"\"\n",
    "    doc_size = np.random.choice(doc_sizes)\n",
    "    tokens = np.random.choice(vocab, doc_size)\n",
    "    return list(tokens)\n",
    "\n",
    "\n",
    "def simulate_corpus(doc_sizes, vocab, corpus_size):\n",
    "    \"\"\"Simulate a full corpus using simulate_document()\"\"\"\n",
    "    corp = []\n",
    "    for i in range(corpus_size):\n",
    "        doc = simulate_document(doc_sizes, vocab)\n",
    "        corp.append(doc)\n",
    "    return corp"
   ]
  },
  {
   "cell_type": "code",
   "execution_count": null,
   "metadata": {
    "scrolled": false
   },
   "outputs": [],
   "source": [
    "corpora = []\n",
    "corpus_size = len(corpus)\n",
    "print(corpus_size)\n",
    "\n",
    "start_time = time.time()\n",
    "\n",
    "for i in range(1000):\n",
    "    corp = simulate_corpus(doc_sizes, vocab, corpus_size)\n",
    "    corpora.append(corp)\n",
    "    print(i)\n",
    "    \n",
    "print(\"{:.2f}\".format(time.time() - start_time))"
   ]
  },
  {
   "cell_type": "code",
   "execution_count": null,
   "metadata": {},
   "outputs": [],
   "source": [
    "len(corpora)"
   ]
  },
  {
   "cell_type": "code",
   "execution_count": null,
   "metadata": {},
   "outputs": [],
   "source": [
    "len(corpora[0])"
   ]
  },
  {
   "cell_type": "code",
   "execution_count": null,
   "metadata": {},
   "outputs": [],
   "source": [
    "corpora[0][50]"
   ]
  },
  {
   "cell_type": "code",
   "execution_count": null,
   "metadata": {},
   "outputs": [],
   "source": [
    "plt.hist(doc_sizes)\n",
    "plt.show()"
   ]
  },
  {
   "cell_type": "code",
   "execution_count": null,
   "metadata": {},
   "outputs": [],
   "source": [
    "sim_doc_sizes = []\n",
    "for corp in corpora:\n",
    "    for doc in corp:\n",
    "        sim_doc_sizes.append(len(doc))"
   ]
  },
  {
   "cell_type": "code",
   "execution_count": null,
   "metadata": {},
   "outputs": [],
   "source": [
    "plt.hist(sim_doc_sizes)\n",
    "plt.show()"
   ]
  },
  {
   "cell_type": "code",
   "execution_count": null,
   "metadata": {},
   "outputs": [],
   "source": [
    "os.makedirs(\"simulated_corpora/\", exist_ok=True)\n",
    "\n",
    "for i, corp in enumerate(corpora):\n",
    "    text = [\" \".join(doc) for doc in corp]\n",
    "    doc_id = [j for j in range(len(text))]\n",
    "    temp_df = pd.DataFrame(list(zip(doc_id, text)), columns=[\"doc_id\", \"text\"])\n",
    "    outf = \"simulated_corpora/ngrams_df_sim{}.csv\".format(i)\n",
    "    temp_df.to_csv(outf, index=False)"
   ]
  }
 ],
 "metadata": {
  "kernelspec": {
   "display_name": "Python 3",
   "language": "python",
   "name": "python3"
  },
  "language_info": {
   "codemirror_mode": {
    "name": "ipython",
    "version": 3
   },
   "file_extension": ".py",
   "mimetype": "text/x-python",
   "name": "python",
   "nbconvert_exporter": "python",
   "pygments_lexer": "ipython3",
   "version": "3.9.12"
  }
 },
 "nbformat": 4,
 "nbformat_minor": 4
}
