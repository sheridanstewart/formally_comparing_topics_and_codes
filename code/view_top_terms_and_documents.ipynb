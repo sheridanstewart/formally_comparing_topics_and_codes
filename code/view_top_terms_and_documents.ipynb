{
 "cells": [
  {
   "cell_type": "code",
   "execution_count": null,
   "metadata": {},
   "outputs": [],
   "source": [
    "import matplotlib.pyplot as plt\n",
    "import numpy as np\n",
    "import pandas as pd"
   ]
  },
  {
   "cell_type": "code",
   "execution_count": null,
   "metadata": {},
   "outputs": [],
   "source": [
    "def separate_chunks(list_, n_per_chunk_):\n",
    "    \"\"\"Handle output from R\"\"\"\n",
    "    for i in range(0, len(list_), n_per_chunk_):  \n",
    "        yield list_[i:i + n_per_chunk_]\n",
    "        \n",
    "\n",
    "def docs_as_dists(topic_list_):\n",
    "    \"\"\"Represent each document as a distribution of topic probabilities\"\"\"\n",
    "    topic_lengths = set(len(topic_) for topic_ in topic_list_)\n",
    "    print(topic_lengths)\n",
    "    assert len(topic_lengths) == 1\n",
    "    response_vecs_ = []\n",
    "    num_topics = len(topic_list_)\n",
    "    print(\"{} topics\".format(num_topics))\n",
    "    topic_len = list(topic_lengths)[0]\n",
    "    for i in range(topic_len):\n",
    "        vec = []\n",
    "        for j in range(num_topics):\n",
    "            val = topic_list_[j][i]\n",
    "            vec.append(val)\n",
    "        response_vecs_.append(vec)\n",
    "    return response_vecs_\n",
    "\n",
    "\n",
    "def top_docs_per_topic(response_vecs_, n_):\n",
    "    \"\"\"Identify the document most strongly associated with each topic\"\"\"\n",
    "    top_docs = []\n",
    "    assert len(set(len(v) for v in response_vecs_)) == 1\n",
    "    num_topics = len(response_vecs_[0])\n",
    "    print(\"{} topics\".format(num_topics))\n",
    "    for i in range(num_topics):\n",
    "        l_ = []\n",
    "        for j in range(len(response_vecs_)):\n",
    "            vec = response_vecs_[j]\n",
    "            val = float(vec[i])\n",
    "            tup = (val, j)\n",
    "            l_.append(tup)\n",
    "        l_ = sorted(l_, key=lambda x: x[0], reverse = True)\n",
    "        top_n = l_[:n_]\n",
    "        top_n = [tup[1] for tup in top_n]\n",
    "        top_docs.append(top_n)\n",
    "    return top_docs\n",
    "        \n",
    "        \n",
    "def print_topics_with_top_responses(topic_list, top_docs, top_terms, responses_cleaned, num_responses=3):\n",
    "    \"\"\"Display the words and documents most strongly associated with each topic\"\"\"\n",
    "    for i in range(len(topic_list)):\n",
    "        indices = top_docs[i]\n",
    "        print(\"Topic {}\".format(i+1))\n",
    "        print(\"-------\\n\")\n",
    "        print(\" \".join(top_terms[i]) + \"\\n\")\n",
    "        for j, index in enumerate(indices[:num_responses]):\n",
    "            ex = \"Ex. {}.{}\".format(i+1, j+1)\n",
    "            print(ex)\n",
    "            print(responses_orig[index])\n",
    "            print(\"\\n\")\n",
    "        print()"
   ]
  },
  {
   "cell_type": "markdown",
   "metadata": {},
   "source": [
    "## Load responses that were preprocessed in Python and used to train topic models in R"
   ]
  },
  {
   "cell_type": "code",
   "execution_count": null,
   "metadata": {},
   "outputs": [],
   "source": [
    "df = pd.read_csv(\"ngrams_df.csv\")\n",
    "responses_cleaned = df[\"cleaned\"].values\n",
    "responses_orig = df[\"original\"].values\n",
    "assert len(responses_cleaned) == len(responses_orig)\n",
    "len(responses_cleaned)"
   ]
  },
  {
   "cell_type": "code",
   "execution_count": null,
   "metadata": {},
   "outputs": [],
   "source": [
    "df[\"index\"] = [i for i in range(len(responses_cleaned))]"
   ]
  },
  {
   "cell_type": "code",
   "execution_count": null,
   "metadata": {},
   "outputs": [],
   "source": [
    "response_lengths = [len(response.split()) for response in responses_cleaned]\n",
    "print(\"Mean no. words in responses: {:.1f}\".format(np.mean(response_lengths)))\n",
    "print(\"Median no. words in responses: {:.1f}\".format(np.median(response_lengths)))"
   ]
  },
  {
   "cell_type": "code",
   "execution_count": null,
   "metadata": {},
   "outputs": [],
   "source": [
    "plt.hist(response_lengths, bins=100)\n",
    "plt.show()"
   ]
  },
  {
   "cell_type": "code",
   "execution_count": null,
   "metadata": {},
   "outputs": [],
   "source": [
    "wc_lengths = [len(response.split()) for response in responses_cleaned]\n",
    "plt.hist(wc_lengths, bins=50)\n",
    "plt.show()"
   ]
  },
  {
   "cell_type": "markdown",
   "metadata": {},
   "source": [
    "# 1 Topic model with k=15 (LDA)"
   ]
  },
  {
   "cell_type": "code",
   "execution_count": null,
   "metadata": {},
   "outputs": [],
   "source": [
    "top_terms15 = open(\"most_likely_terms15.txt\", \"r\").read().strip().split(\"\\n\")\n",
    "f = \"topic_probs15.txt\"\n",
    "doc15 = open(f, \"r\").read().split()\n",
    "\n",
    "topic_list15 = [chunk for chunk in separate_chunks(doc15, 988)]\n",
    "response_vecs15 = docs_as_dists(topic_list15)\n",
    "top_docs15 = top_docs_per_topic(response_vecs15, 5)"
   ]
  },
  {
   "cell_type": "markdown",
   "metadata": {},
   "source": [
    "### 1.1 Compare results to results from R"
   ]
  },
  {
   "cell_type": "code",
   "execution_count": null,
   "metadata": {
    "scrolled": false
   },
   "outputs": [],
   "source": [
    "# Compare Python results to the top topic for the first n documents according to R\n",
    "\n",
    "comparison15 = \"\" # compare to first n results in most_likely_topic_in_doc_15 in R\n",
    "comparison15 = [int(i) for i in comparison15.split()]\n",
    "\n",
    "for i in range(len(comparison15)):\n",
    "    print(np.argmax(response_vecs15[i]) + 1, comparison15[i])"
   ]
  },
  {
   "cell_type": "markdown",
   "metadata": {},
   "source": [
    "### 1.2 Top 10 terms for each topic in the model with k=15"
   ]
  },
  {
   "cell_type": "code",
   "execution_count": null,
   "metadata": {},
   "outputs": [],
   "source": [
    "top_terms15 = list(separate_chunks(top_terms15, 10))\n",
    "\n",
    "for i, t in enumerate(top_terms15):\n",
    "    t = \" \".join(t)\n",
    "    print(\"Topic {}: {}\".format(i+1, t))"
   ]
  },
  {
   "cell_type": "code",
   "execution_count": null,
   "metadata": {},
   "outputs": [],
   "source": [
    "print(len(topic_list15))\n",
    "print(len(top_docs15))\n",
    "print(len(top_terms15))\n",
    "print(len(responses_cleaned))"
   ]
  },
  {
   "cell_type": "markdown",
   "metadata": {},
   "source": [
    "### 1.3 Representative documents for each topic"
   ]
  },
  {
   "cell_type": "code",
   "execution_count": null,
   "metadata": {
    "scrolled": true
   },
   "outputs": [],
   "source": [
    "print_topics_with_top_responses(topic_list15, top_docs15, top_terms15, responses_cleaned, 3)"
   ]
  },
  {
   "cell_type": "markdown",
   "metadata": {},
   "source": [
    "# 2 Topic model with k=25 (LDA)"
   ]
  },
  {
   "cell_type": "code",
   "execution_count": null,
   "metadata": {},
   "outputs": [],
   "source": [
    "top_terms25 = open(\"most_likely_terms25.txt\", \"r\").read().strip().split(\"\\n\")\n",
    "f = \"topic_probs25.txt\"\n",
    "doc25 = open(f, \"r\").read().split()\n",
    "\n",
    "topic_list25 = [chunk for chunk in separate_chunks(doc25, 988)]\n",
    "response_vecs25 = docs_as_dists(topic_list25)\n",
    "top_docs25 = top_docs_per_topic(response_vecs25, 5)"
   ]
  },
  {
   "cell_type": "markdown",
   "metadata": {},
   "source": [
    "### 2.1 Compare results to results from R"
   ]
  },
  {
   "cell_type": "code",
   "execution_count": null,
   "metadata": {},
   "outputs": [],
   "source": [
    "# Compare Python results to the top topic for the first n documents according to R\n",
    "\n",
    "comparison25 = \"\" # compare to first n results in most_likely_topic_in_doc_25 in R\n",
    "comparison25 = [int(i) for i in comparison25.split()]\n",
    "\n",
    "for i in range(len(comparison25)):\n",
    "    print(np.argmax(response_vecs25[i]) + 1, comparison25[i])"
   ]
  },
  {
   "cell_type": "markdown",
   "metadata": {},
   "source": [
    "### 2.2 Top 10 terms for each topic in the model with k=25"
   ]
  },
  {
   "cell_type": "code",
   "execution_count": null,
   "metadata": {},
   "outputs": [],
   "source": [
    "top_terms25 = list(separate_chunks(top_terms25, 10))\n",
    "\n",
    "for i, t in enumerate(top_terms25):\n",
    "    t = \" \".join(t)\n",
    "    print(\"Topic {}: {}\".format(i+1, t))"
   ]
  },
  {
   "cell_type": "code",
   "execution_count": null,
   "metadata": {},
   "outputs": [],
   "source": [
    "print(len(topic_list25))\n",
    "print(len(top_docs25))\n",
    "print(len(top_terms25))\n",
    "print(len(responses_cleaned))"
   ]
  },
  {
   "cell_type": "markdown",
   "metadata": {},
   "source": [
    "### 2.3 Representative documents for each topic"
   ]
  },
  {
   "cell_type": "code",
   "execution_count": null,
   "metadata": {},
   "outputs": [],
   "source": [
    "print_topics_with_top_responses(topic_list25, top_docs25, top_terms25, responses_cleaned, 3)"
   ]
  },
  {
   "cell_type": "markdown",
   "metadata": {},
   "source": [
    "# 3 Topic model with k=35 (LDA)"
   ]
  },
  {
   "cell_type": "code",
   "execution_count": null,
   "metadata": {},
   "outputs": [],
   "source": [
    "top_terms35 = open(\"most_likely_terms35.txt\", \"r\").read().strip().split(\"\\n\")\n",
    "f = \"topic_probs35.txt\"\n",
    "doc35 = open(f, \"r\").read().split()\n",
    "\n",
    "topic_list35 = [chunk for chunk in separate_chunks(doc35, 988)]\n",
    "response_vecs35 = docs_as_dists(topic_list35)\n",
    "top_docs35 = top_docs_per_topic(response_vecs35, 5)"
   ]
  },
  {
   "cell_type": "markdown",
   "metadata": {},
   "source": [
    "### 3.1 Compare results to results from R"
   ]
  },
  {
   "cell_type": "code",
   "execution_count": null,
   "metadata": {},
   "outputs": [],
   "source": [
    "# Compare Python results to the top topic for the first n documents according to R\n",
    "\n",
    "comparison35 = \"\" # compare to first n results in most_likely_topic_in_doc_35 in R\n",
    "comparison35 = [int(i) for i in comparison35.split()]\n",
    "\n",
    "for i in range(len(comparison35)):\n",
    "    print(np.argmax(response_vecs35[i]) + 1, comparison35[i])"
   ]
  },
  {
   "cell_type": "markdown",
   "metadata": {},
   "source": [
    "### 3.2 Top 10 terms for each topic in the model with k=35"
   ]
  },
  {
   "cell_type": "code",
   "execution_count": null,
   "metadata": {},
   "outputs": [],
   "source": [
    "top_terms35 = list(separate_chunks(top_terms35, 10))\n",
    "\n",
    "for i, t in enumerate(top_terms35):\n",
    "    t = \" \".join(t)\n",
    "    print(\"Topic {}: {}\".format(i+1, t))"
   ]
  },
  {
   "cell_type": "code",
   "execution_count": null,
   "metadata": {},
   "outputs": [],
   "source": [
    "print(len(topic_list35))\n",
    "print(len(top_docs35))\n",
    "print(len(top_terms35))\n",
    "print(len(responses_cleaned))"
   ]
  },
  {
   "cell_type": "markdown",
   "metadata": {},
   "source": [
    "### 3.3 Representative documents for each topic"
   ]
  },
  {
   "cell_type": "code",
   "execution_count": null,
   "metadata": {},
   "outputs": [],
   "source": [
    "print_topics_with_top_responses(topic_list35, top_docs35, top_terms35, responses_cleaned, 3)"
   ]
  }
 ],
 "metadata": {
  "kernelspec": {
   "display_name": "Python 3",
   "language": "python",
   "name": "python3"
  },
  "language_info": {
   "codemirror_mode": {
    "name": "ipython",
    "version": 3
   },
   "file_extension": ".py",
   "mimetype": "text/x-python",
   "name": "python",
   "nbconvert_exporter": "python",
   "pygments_lexer": "ipython3",
   "version": "3.9.12"
  }
 },
 "nbformat": 4,
 "nbformat_minor": 2
}
