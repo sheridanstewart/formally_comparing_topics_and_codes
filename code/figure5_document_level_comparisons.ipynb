{
 "cells": [
  {
   "cell_type": "code",
   "execution_count": 22,
   "id": "d7d78445",
   "metadata": {},
   "outputs": [],
   "source": [
    "import copy\n",
    "import matplotlib.pyplot as plt\n",
    "import numpy as np\n",
    "import os\n",
    "import pandas as pd\n",
    "import pickle\n",
    "import re\n",
    "import seaborn as sns\n",
    "import time\n",
    "\n",
    "from collections import Counter, defaultdict\n",
    "from matplotlib import rcParams\n",
    "from scipy.stats import spearmanr\n",
    "\n",
    "%matplotlib inline"
   ]
  },
  {
   "cell_type": "code",
   "execution_count": 23,
   "id": "d317e807",
   "metadata": {},
   "outputs": [],
   "source": [
    "def separate_chunks(list_, n_per_chunk_):\n",
    "    \"\"\"Handle output from R\"\"\"\n",
    "    for i in range(0, len(list_), n_per_chunk_):  \n",
    "        yield list_[i:i + n_per_chunk_]\n",
    "        \n",
    "\n",
    "def docs_as_dists(topic_list_):\n",
    "    \"\"\"Represent each document as a distribution of topic probabilities\"\"\"\n",
    "    topic_lengths = set(len(topic_) for topic_ in topic_list_)\n",
    "    print(topic_lengths)\n",
    "    assert len(topic_lengths) == 1\n",
    "    response_vecs_ = []\n",
    "    num_topics = len(topic_list_)\n",
    "    topic_len = list(topic_lengths)[0]\n",
    "    for i in range(topic_len):\n",
    "        vec = []\n",
    "        for j in range(num_topics):\n",
    "            val = topic_list_[j][i]\n",
    "            vec.append(val)\n",
    "        response_vecs_.append(vec)\n",
    "    return response_vecs_\n",
    "\n",
    "\n",
    "def get_upper_bound(num_tests = 1, alpha = 0.05, one_tailed = False):\n",
    "    \"\"\"Helper function for implementing bootstrap percentile method\"\"\"\n",
    "    lower = alpha/num_tests/2\n",
    "    if one_tailed:\n",
    "        lower *= 2\n",
    "    return 1 - lower\n",
    "\n",
    "\n",
    "def get_lower_bound(num_tests = 1, alpha = 0.05, one_tailed = False):\n",
    "    \"\"\"Helper function for implementing bootstrap percentile method\"\"\"\n",
    "    lower = alpha/num_tests/2\n",
    "    if one_tailed:\n",
    "        lower *= 2\n",
    "    return lower\n",
    "\n",
    "\n",
    "def get_upper_index(upper_bound, distribution):\n",
    "    \"\"\"Find index based on upper bound and distribution size\"\"\"\n",
    "    upper_idx = int(np.floor(upper_bound * len(distribution)))\n",
    "    return upper_idx\n",
    "\n",
    "\n",
    "def get_lower_index(lower_bound, distribution):\n",
    "    \"\"\"Find index based on lower bound and distribution size\"\"\"\n",
    "    lower_idx = int(np.ceil(lower_bound * len(distribution)))\n",
    "    return lower_idx\n",
    "\n",
    "\n",
    "def hypothesis_testing_rho_distributions(real_ests, sim_ests_dict, alpha = 0.05, bonferroni = True, one_tailed = False):\n",
    "    \"\"\"Compare Spearman rank-order correlation coefficients to distribution of simulated coefficients\n",
    "    using the bootstrap percentile method\"\"\"\n",
    "    test_mat = np.zeros(real_ests.shape)\n",
    "    num_tests = 1\n",
    "    if bonferroni == True:\n",
    "        num_tests = real_ests.size\n",
    "    upper_bound = get_upper_bound(num_tests, alpha, one_tailed)\n",
    "    lower_bound = get_lower_bound(num_tests, alpha, one_tailed)\n",
    "    for i, row in enumerate(real_ests):\n",
    "        for j, col in enumerate(row):\n",
    "            rho_ij = real_ests[i][j]\n",
    "            sims = sim_ests_dict[i][j] # in contrast to tjur R2 tests, comparing only to cell_ij\n",
    "            sims = sorted(sims)\n",
    "            upper_idx = get_upper_index(upper_bound, sims)\n",
    "            lower_idx = get_lower_index(lower_bound, sims)\n",
    "            test_stat_upper = sims[upper_idx]\n",
    "            test_stat_lower = sims[lower_idx]\n",
    "            if rho_ij > test_stat_upper:\n",
    "                test_mat[i][j] = 1\n",
    "            elif rho_ij < test_stat_lower:\n",
    "                test_mat[i][j] = 1\n",
    "    print(np.count_nonzero(test_mat)/test_mat.size)\n",
    "    return test_mat\n",
    "\n",
    "\n",
    "def results_to_strings(results, sig_tests):\n",
    "    \"\"\"Add asterisks to significant results (etc.)\"\"\"\n",
    "    mat = []\n",
    "    for i, row in enumerate(results):\n",
    "        row_str = []\n",
    "        for j, cell in enumerate(row):\n",
    "            res = f\"{cell:.3f}\"\n",
    "            if sig_tests[i][j]:\n",
    "                res += \"*\"\n",
    "            row_str.append(res)\n",
    "        mat.append(row_str)\n",
    "    return mat"
   ]
  },
  {
   "cell_type": "code",
   "execution_count": 3,
   "id": "d613a304",
   "metadata": {},
   "outputs": [],
   "source": [
    "topic_cols = [f\"topic_{i}\" for i in range(1,36)]"
   ]
  },
  {
   "cell_type": "code",
   "execution_count": 4,
   "id": "d96626a4",
   "metadata": {},
   "outputs": [],
   "source": [
    "path_to_sims = \"simulated_corpora/\"\n",
    "\n",
    "fs1 = [f for f in os.listdir(path_to_sims) if \"ngrams_df_sim\" in f]\n",
    "\n",
    "fs2 = [f for f in os.listdir(path_to_sims) if \"topicmodel_k15_sim\" in f]\n",
    "fs3 = [f for f in os.listdir(path_to_sims) if \"topic_probs_k15_sim\" in f]\n",
    "fs4 = [f for f in os.listdir(path_to_sims) if \"_lda15gamma\" in f]\n",
    "fs5 = [f for f in os.listdir(path_to_sims) if \"_lda15beta\" in f]\n",
    "fs6 = [f for f in os.listdir(path_to_sims) if \"likeliest_terms_k15\" in f]\n",
    "\n",
    "fs7 = [f for f in os.listdir(path_to_sims) if \"topicmodel_k35_sim\" in f]\n",
    "fs8 = [f for f in os.listdir(path_to_sims) if \"topic_probs_k35_sim\" in f]\n",
    "fs9 = [f for f in os.listdir(path_to_sims) if \"_lda35gamma\" in f]\n",
    "fs10 = [f for f in os.listdir(path_to_sims) if \"_lda35beta\" in f]\n",
    "fs11 = [f for f in os.listdir(path_to_sims) if \"likeliest_terms_k35\" in f]"
   ]
  },
  {
   "cell_type": "code",
   "execution_count": 5,
   "id": "9a6721b9",
   "metadata": {},
   "outputs": [
    {
     "name": "stdout",
     "output_type": "stream",
     "text": [
      "1084\n",
      "1000\n",
      "1000\n",
      "1000\n",
      "1000\n",
      "1000\n",
      "1000\n",
      "1000\n",
      "1000\n",
      "1000\n",
      "1000\n"
     ]
    }
   ],
   "source": [
    "fs = [fs1, fs2, fs3, fs4, fs5, fs6, fs7, fs8, fs9, fs10, fs11]\n",
    "\n",
    "for f in fs:\n",
    "    print(len(f))"
   ]
  },
  {
   "cell_type": "code",
   "execution_count": 6,
   "id": "b5312591",
   "metadata": {},
   "outputs": [
    {
     "name": "stdout",
     "output_type": "stream",
     "text": [
      "1000\n",
      "1\n",
      "1084\n",
      "84\n"
     ]
    }
   ],
   "source": [
    "reg = \"sim[0-9]{1,4}\"\n",
    "\n",
    "sim_nums = []\n",
    "\n",
    "for i, f in enumerate(fs[1:]):\n",
    "    f = [int(re.findall(reg, f_)[0].replace(\"sim\", \"\")) for f_ in f]\n",
    "    sim_nums += f\n",
    "\n",
    "c = Counter(sim_nums)\n",
    "for value in c.values():\n",
    "    assert value == 10 # assert simulation number occurs only once in each file list\n",
    "    \n",
    "sim_nums = set(sim_nums)\n",
    "print(len(sim_nums))\n",
    "print(min(sim_nums))\n",
    "print(max(sim_nums))\n",
    "\n",
    "missing = [i for i in range(1,1085) if i not in sim_nums]\n",
    "print(len(missing))"
   ]
  },
  {
   "cell_type": "code",
   "execution_count": 7,
   "id": "51b20cbd",
   "metadata": {},
   "outputs": [],
   "source": [
    "df_k15 = pd.read_csv(\"df_for_comparison_k15.csv\")\n",
    "df_k35 = pd.read_csv(\"df_for_comparison_k35.csv\")"
   ]
  },
  {
   "cell_type": "code",
   "execution_count": 28,
   "id": "57615c85",
   "metadata": {},
   "outputs": [],
   "source": [
    "gamma_k15_real = pd.read_csv(\"lda15gamma.txt\")\n",
    "gamma_k15_real.drop(labels=\"Unnamed: 0\", axis=1, inplace=True)\n",
    "\n",
    "gamma_k35_real = pd.read_csv(\"lda35gamma.txt\")\n",
    "gamma_k35_real.drop(labels=\"Unnamed: 0\", axis=1, inplace=True)"
   ]
  },
  {
   "cell_type": "code",
   "execution_count": 26,
   "id": "b596af42",
   "metadata": {},
   "outputs": [],
   "source": [
    "# df_k15.head()"
   ]
  },
  {
   "cell_type": "code",
   "execution_count": 10,
   "id": "b566f75d",
   "metadata": {},
   "outputs": [],
   "source": [
    "# df_k35.head()"
   ]
  },
  {
   "cell_type": "code",
   "execution_count": 30,
   "id": "45fa618b",
   "metadata": {},
   "outputs": [],
   "source": [
    "# gamma_k35_real.head()"
   ]
  },
  {
   "cell_type": "code",
   "execution_count": 12,
   "id": "32ffa2b2",
   "metadata": {},
   "outputs": [
    {
     "name": "stdout",
     "output_type": "stream",
     "text": [
      "0.9999998600000001 1.0000001400000003\n",
      "0.9999998399999995 1.0000001600000001\n"
     ]
    }
   ],
   "source": [
    "df_k15 = df_k15[topic_cols[:15]]\n",
    "df_k35 = df_k35[topic_cols[:35]]\n",
    "\n",
    "row_sums_k15 = df_k15.sum(axis=1)\n",
    "print(min(row_sums_k15), max(row_sums_k15))\n",
    "\n",
    "row_sums_k35 = df_k35.sum(axis=1)\n",
    "print(min(row_sums_k35), max(row_sums_k35))"
   ]
  },
  {
   "cell_type": "code",
   "execution_count": 13,
   "id": "20bf59ec",
   "metadata": {},
   "outputs": [
    {
     "data": {
      "text/plain": [
       "((988, 15), (988, 35))"
      ]
     },
     "execution_count": 13,
     "metadata": {},
     "output_type": "execute_result"
    }
   ],
   "source": [
    "gamma_k15_real.shape, gamma_k35_real.shape"
   ]
  },
  {
   "cell_type": "code",
   "execution_count": 14,
   "id": "67270f2b",
   "metadata": {},
   "outputs": [
    {
     "name": "stdout",
     "output_type": "stream",
     "text": [
      "(988, 15) (988, 35)\n",
      "0.9999999999999987 1.0000000000000018\n",
      "0.9999999999999981 1.000000000000002\n"
     ]
    }
   ],
   "source": [
    "gamma_k15_real = gamma_k15_real\n",
    "gamma_k35_real = gamma_k35_real\n",
    "\n",
    "print(gamma_k15_real.shape, gamma_k35_real.shape)\n",
    "\n",
    "row_sums_k15 = gamma_k15_real.sum(axis=1)\n",
    "print(min(row_sums_k15), max(row_sums_k15))\n",
    "\n",
    "row_sums_k35 = gamma_k35_real.sum(axis=1)\n",
    "print(min(row_sums_k35), max(row_sums_k35))"
   ]
  },
  {
   "cell_type": "code",
   "execution_count": 15,
   "id": "71b115dc",
   "metadata": {},
   "outputs": [
    {
     "name": "stdout",
     "output_type": "stream",
     "text": [
      "100 21.62\n",
      "200 43.24\n",
      "300 65.32\n",
      "400 87.48\n",
      "500 109.43\n",
      "600 132.13\n",
      "700 154.91\n",
      "800 177.12\n",
      "900 198.90\n",
      "1000 220.63\n",
      "{1.0}\n"
     ]
    }
   ],
   "source": [
    "start_time = time.time()\n",
    "\n",
    "row_sums = set()\n",
    "\n",
    "correlations_dict = defaultdict(lambda: defaultdict(lambda: []))\n",
    "\n",
    "count = 0\n",
    "\n",
    "for num in sorted(list(sim_nums)):\n",
    "    \n",
    "    count += 1\n",
    "    \n",
    "    f = f\"{path_to_sims}sim{num}_lda15gamma.txt\"\n",
    "    lda15gamma = pd.read_csv(f)\n",
    "    cols = [col for col in lda15gamma.columns if \"Unnamed\" not in col]\n",
    "    lda15gamma = lda15gamma[cols].to_numpy()\n",
    "    lda15gamma = np.flip(lda15gamma, axis=1)\n",
    "\n",
    "    f = f\"{path_to_sims}sim{num}_lda35gamma.txt\"\n",
    "    lda35gamma = pd.read_csv(f)\n",
    "    cols = [col for col in lda35gamma.columns if \"Unnamed\" not in col]\n",
    "    lda35gamma = lda35gamma[cols].to_numpy()\n",
    "    \n",
    "    assert lda15gamma.shape[0] == lda35gamma.shape[0] == 988\n",
    "    assert lda15gamma.shape[1] == 15\n",
    "    assert lda35gamma.shape[1] == 35\n",
    "    \n",
    "    sums_ = lda15gamma.sum(axis=1)\n",
    "    sums_ = set([round(s, 5) for s in sums_])\n",
    "    row_sums = row_sums.union(sums_)\n",
    "    \n",
    "    sums_ = lda35gamma.sum(axis=1)\n",
    "    sums_ = set([round(s, 5) for s in sums_])\n",
    "    row_sums = row_sums.union(sums_)\n",
    "    \n",
    "    correlations = np.zeros((lda15gamma.shape[1], lda35gamma.shape[1]))\n",
    "\n",
    "    for i in range(15):\n",
    "        topic_i = lda15gamma[:, i]\n",
    "        assert topic_i.shape[0] == 988\n",
    "        for j in range(35):\n",
    "            topic_j = lda35gamma[:, j]\n",
    "            assert topic_j.shape[0] == 988\n",
    "            rho, pval = spearmanr(topic_i, topic_j)\n",
    "            correlations[i][j] = rho\n",
    "            correlations_dict[i][j].append(rho)\n",
    "\n",
    "    if count % 100 == 0:\n",
    "        print(count, f\"{time.time() - start_time:.2f}\")\n",
    "        \n",
    "correlations_dict2 = defaultdict(lambda: {})\n",
    "\n",
    "for key_i in correlations_dict.keys():\n",
    "    for key_j in correlations_dict[key_i].keys():\n",
    "        corrs = correlations_dict[key_i][key_j]\n",
    "        correlations_dict2[key_i][key_j] = corrs\n",
    "        \n",
    "correlations_dict2 = dict(correlations_dict2)\n",
    "\n",
    "outf = \"sim_doc_level_topic_correlations.d\"\n",
    "pickle.dump(correlations_dict2, open(outf, \"wb\"))\n",
    "\n",
    "print(row_sums)"
   ]
  },
  {
   "cell_type": "code",
   "execution_count": 16,
   "id": "1b713df1",
   "metadata": {},
   "outputs": [],
   "source": [
    "infile = \"sim_doc_level_topic_correlations.d\"\n",
    "correlations_dict2 = pickle.load(open(infile, \"rb\"))"
   ]
  },
  {
   "cell_type": "code",
   "execution_count": 17,
   "id": "4d974d19",
   "metadata": {},
   "outputs": [
    {
     "data": {
      "text/plain": [
       "1000"
      ]
     },
     "execution_count": 17,
     "metadata": {},
     "output_type": "execute_result"
    }
   ],
   "source": [
    "len(correlations_dict2[0][0])"
   ]
  },
  {
   "cell_type": "code",
   "execution_count": 18,
   "id": "14d35ef1",
   "metadata": {},
   "outputs": [],
   "source": [
    "# gamma_k15_real.head()"
   ]
  },
  {
   "cell_type": "code",
   "execution_count": 19,
   "id": "6d04347c",
   "metadata": {},
   "outputs": [],
   "source": [
    "# gamma_k35_real.head()"
   ]
  },
  {
   "cell_type": "code",
   "execution_count": 20,
   "id": "9a522a31",
   "metadata": {},
   "outputs": [],
   "source": [
    "real_correlations = np.zeros((15,35))\n",
    "\n",
    "for i in range(15):\n",
    "    topic_i = np.flip(gamma_k15_real.to_numpy(), axis=1)[:, i]\n",
    "    assert topic_i.shape[0] == 988\n",
    "    for j in range(35):\n",
    "        topic_j = gamma_k35_real.to_numpy()[:, j]\n",
    "        assert topic_j.shape[0] == 988\n",
    "        rho, pval = spearmanr(topic_i, topic_j)\n",
    "        real_correlations[i][j] = rho"
   ]
  },
  {
   "cell_type": "markdown",
   "id": "68ede11d",
   "metadata": {},
   "source": [
    "## Figure 5. Spearman rank-order correlation coefficients between topic probabilities at the document level in the preferred (k = 15) and alternative (k = 35) models."
   ]
  },
  {
   "cell_type": "code",
   "execution_count": 21,
   "id": "e22e6896",
   "metadata": {},
   "outputs": [
    {
     "name": "stdout",
     "output_type": "stream",
     "text": [
      "0.03619047619047619\n"
     ]
    },
    {
     "data": {
      "image/png": "[encoded data removed]",
      "text/plain": [
       "<Figure size 1440x648 with 2 Axes>"
      ]
     },
     "metadata": {},
     "output_type": "display_data"
    },
    {
     "name": "stdout",
     "output_type": "stream",
     "text": [
      "Figure 5. Spearman rank-order correlation coefficients between topic probabilities at the document level in the preferred (k = 15) and alternative (k = 35) models.\n"
     ]
    }
   ],
   "source": [
    "topic_labels = [\"Transitions\", \"Family Leave\", \"Promotion Inequality\", \"Power\", \"Burnout\", \n",
    "                \"Unequal Compensation\", \"Psychosocial Support\", \"Respect\", \"Training\", \n",
    "                \"Staff Interactions\", \"Career Advancement\", \"Favoritism\", \"Hierarchy\", \"Agency\", \n",
    "                \"Pumping\"]\n",
    "\n",
    "f = \"sim_doc_level_topic_correlations.d\"\n",
    "correlations_dict = pickle.load(open(f, \"rb\"))\n",
    "\n",
    "\n",
    "topic_labels = copy.copy(topic_labels)\n",
    "topic_labels.reverse()\n",
    "\n",
    "alt_labels = [f\"Topic {i}\" for i in range(1,36)]\n",
    "\n",
    "sig_tests = hypothesis_testing_rho_distributions(real_correlations, correlations_dict, \n",
    "                                         alpha = 0.05, bonferroni = True, one_tailed = False)\n",
    "mat = results_to_strings(real_correlations, sig_tests)\n",
    "df = pd.DataFrame(mat, columns=alt_labels)\n",
    "\n",
    "outf = \"model_comparison_table_doc_level.csv\"\n",
    "df.to_csv(outf)\n",
    "\n",
    "mask = np.invert(sig_tests.astype(bool))\n",
    "\n",
    "sns.set_style(\"white\")\n",
    "\n",
    "f, ax = plt.subplots(figsize=(20, 9))\n",
    "\n",
    "cmap = sns.color_palette(\"vlag_r\", n_colors=1000)\n",
    "rcParams['figure.figsize'] = 16,9\n",
    "rcParams[\"font.family\"] = \"Times New Roman\"\n",
    "plt.rcParams[\"font.family\"] = \"Times New Roman\"\n",
    "plt.rcParams['grid.linewidth'] = 2\n",
    "\n",
    "plot = sns.heatmap(real_correlations, vmin=-1.0, vmax=1.0, center=0.0,\n",
    "            square=False, linewidths=0.05,\n",
    "            linecolor=\"lightgray\",\n",
    "            yticklabels=topic_labels,\n",
    "            xticklabels=alt_labels,\n",
    "            annot=True,\n",
    "            fmt=\".3f\",\n",
    "            cmap = cmap,\n",
    "            mask = mask)\n",
    "\n",
    "plot.set_xticklabels(plot.get_xticklabels(), rotation=45, horizontalalignment=\"right\")\n",
    "plt.tight_layout()\n",
    "for i in range(real_correlations.shape[1]+1):\n",
    "    plt.axvline(x=i, color=\"lightgray\")\n",
    "for i in range(real_correlations.shape[0]+1):\n",
    "    plt.axhline(y=i, color=\"lightgray\")\n",
    "\n",
    "plt.savefig(\"comparing_topic_models_qual_coding_figure5.png\", format=\"png\", transparent=False, dpi=600)\n",
    "plt.show()\n",
    "\n",
    "print(\"Figure 5. Spearman rank-order correlation coefficients between topic probabilities at the document level in the preferred (k = 15) and alternative (k = 35) models.\")"
   ]
  }
 ],
 "metadata": {
  "kernelspec": {
   "display_name": "Python 3",
   "language": "python",
   "name": "python3"
  },
  "language_info": {
   "codemirror_mode": {
    "name": "ipython",
    "version": 3
   },
   "file_extension": ".py",
   "mimetype": "text/x-python",
   "name": "python",
   "nbconvert_exporter": "python",
   "pygments_lexer": "ipython3",
   "version": "3.9.12"
  }
 },
 "nbformat": 4,
 "nbformat_minor": 5
}
