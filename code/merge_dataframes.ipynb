{
 "cells": [
  {
   "cell_type": "code",
   "execution_count": null,
   "id": "09ccc617",
   "metadata": {},
   "outputs": [],
   "source": [
    "import pandas as pd\n",
    "\n",
    "from unidecode import unidecode"
   ]
  },
  {
   "cell_type": "code",
   "execution_count": null,
   "id": "9951c0fd",
   "metadata": {},
   "outputs": [],
   "source": [
    "def separate_chunks(list_, n_per_chunk_):\n",
    "    \"\"\"Handle output from R\"\"\"\n",
    "    for i in range(0, len(list_), n_per_chunk_):  \n",
    "        yield list_[i:i + n_per_chunk_]\n",
    "        \n",
    "\n",
    "def docs_as_dists(topic_list_):\n",
    "    \"\"\"Represent each document as a distribution of topic probabilities\"\"\"\n",
    "    topic_lengths = set(len(topic_) for topic_ in topic_list_)\n",
    "    print(topic_lengths)\n",
    "    assert len(topic_lengths) == 1\n",
    "    response_vecs_ = []\n",
    "    num_topics = len(topic_list_)\n",
    "    print(\"{} topics\".format(num_topics))\n",
    "    topic_len = list(topic_lengths)[0]\n",
    "    for i in range(topic_len):\n",
    "        vec = []\n",
    "        for j in range(num_topics):\n",
    "            val = topic_list_[j][i]\n",
    "            vec.append(val)\n",
    "        response_vecs_.append(vec)\n",
    "    return response_vecs_"
   ]
  },
  {
   "cell_type": "code",
   "execution_count": null,
   "id": "2eb53494",
   "metadata": {},
   "outputs": [],
   "source": [
    "df_qual = pd.read_csv(\"PMG 2016 Data Export 6_4_20.csv\")\n",
    "df_qual.shape\n",
    "\n",
    "for col in df_qual.columns:\n",
    "    new_qcv = unidecode(str(col)).replace(\"Code: \", \"\").replace(\"Content Codes\\\\\", \"\")\n",
    "    new_qcv = new_qcv.replace(\"Index Codes\\\\\", \"\").strip()\n",
    "    new_qcv = new_qcv.replace(\"\\\\\", \"/\")\n",
    "    df_qual = df_qual.rename(columns={col:new_qcv})"
   ]
  },
  {
   "cell_type": "code",
   "execution_count": null,
   "id": "95987c22",
   "metadata": {},
   "outputs": [],
   "source": [
    "df_qual.head()"
   ]
  },
  {
   "cell_type": "code",
   "execution_count": null,
   "id": "6bf4d7a3",
   "metadata": {},
   "outputs": [],
   "source": [
    "df = pd.read_csv(\"ngrams_df.csv\")\n",
    "df.shape"
   ]
  },
  {
   "cell_type": "code",
   "execution_count": null,
   "id": "a6be356b",
   "metadata": {},
   "outputs": [],
   "source": [
    "df.head()"
   ]
  },
  {
   "cell_type": "code",
   "execution_count": null,
   "id": "05bcca2a",
   "metadata": {},
   "outputs": [],
   "source": [
    "df_qual = df_qual.rename(columns={\"Media Title\":\"media_title\"})\n",
    "\n",
    "df = df.merge(df_qual, on=\"media_title\")\n",
    "df.shape"
   ]
  },
  {
   "cell_type": "code",
   "execution_count": null,
   "id": "a2422d18",
   "metadata": {},
   "outputs": [],
   "source": [
    "df[\"row\"] = [i for i in range(df.shape[0])]"
   ]
  },
  {
   "cell_type": "code",
   "execution_count": null,
   "id": "bfad91e4",
   "metadata": {},
   "outputs": [],
   "source": [
    "f = \"topic_probs15.txt\"\n",
    "doc15 = open(f, \"r\").read().split()\n",
    "\n",
    "topic_list15 = [chunk for chunk in separate_chunks(doc15, 988)]\n",
    "response_vecs15 = docs_as_dists(topic_list15)"
   ]
  },
  {
   "cell_type": "code",
   "execution_count": null,
   "id": "5bc1bd38",
   "metadata": {},
   "outputs": [],
   "source": [
    "for v in response_vecs15:\n",
    "    nums_ = [float(v_) for v_ in v]\n",
    "    sum_ = sum(nums_)\n",
    "    try:\n",
    "        assert round(sum_) == 1\n",
    "    except:\n",
    "        print(sum_)"
   ]
  },
  {
   "cell_type": "code",
   "execution_count": null,
   "id": "7c4760d1",
   "metadata": {},
   "outputs": [],
   "source": [
    "topic_cols = [\"topic_{}\".format(i) for i in range(1,16)]\n",
    "print(topic_cols)"
   ]
  },
  {
   "cell_type": "code",
   "execution_count": null,
   "id": "40ed0502",
   "metadata": {},
   "outputs": [],
   "source": [
    "topic_df = pd.DataFrame(response_vecs15, columns = topic_cols)\n",
    "topic_df = topic_df.astype(float)\n",
    "\n",
    "set(topic_df.sum(axis=1)) # the topic probabilities for each document should sum to approximately 1"
   ]
  },
  {
   "cell_type": "code",
   "execution_count": null,
   "id": "923d7376",
   "metadata": {},
   "outputs": [],
   "source": [
    "topic_df[\"row\"] = [i for i in range(topic_df.shape[0])]"
   ]
  },
  {
   "cell_type": "code",
   "execution_count": null,
   "id": "3ee39ff9",
   "metadata": {},
   "outputs": [],
   "source": [
    "topic_df"
   ]
  },
  {
   "cell_type": "code",
   "execution_count": null,
   "id": "293db87b",
   "metadata": {},
   "outputs": [],
   "source": [
    "df = df.merge(topic_df, on=\"row\")\n",
    "df.shape"
   ]
  },
  {
   "cell_type": "code",
   "execution_count": null,
   "id": "60cfc815",
   "metadata": {},
   "outputs": [],
   "source": [
    "df.head()"
   ]
  },
  {
   "cell_type": "code",
   "execution_count": null,
   "id": "9f217555",
   "metadata": {},
   "outputs": [],
   "source": [
    "df.columns"
   ]
  },
  {
   "cell_type": "code",
   "execution_count": null,
   "id": "0125403c",
   "metadata": {},
   "outputs": [],
   "source": [
    "df.to_csv(\"df_for_comparison_k15.csv\")"
   ]
  },
  {
   "cell_type": "code",
   "execution_count": null,
   "id": "790737b1",
   "metadata": {},
   "outputs": [],
   "source": [
    "f = \"topic_probs35.txt\"\n",
    "doc35 = open(f, \"r\").read().split()\n",
    "\n",
    "topic_list35 = [chunk for chunk in separate_chunks(doc35, 988)]\n",
    "response_vecs35 = docs_as_dists(topic_list35)\n",
    "\n",
    "for v in response_vecs35:\n",
    "    nums_ = [float(v_) for v_ in v]\n",
    "    sum_ = sum(nums_)\n",
    "    try:\n",
    "        assert round(sum_) == 1\n",
    "    except:\n",
    "        print(sum_)"
   ]
  },
  {
   "cell_type": "code",
   "execution_count": null,
   "id": "e8c24f97",
   "metadata": {},
   "outputs": [],
   "source": [
    "df.drop(labels=topic_cols, inplace=True,  axis=1)"
   ]
  },
  {
   "cell_type": "code",
   "execution_count": null,
   "id": "544f96e1",
   "metadata": {},
   "outputs": [],
   "source": [
    "topic_cols += [\"topic_{}\".format(i) for i in range(16,36)]"
   ]
  },
  {
   "cell_type": "code",
   "execution_count": null,
   "id": "18c4f5e0",
   "metadata": {},
   "outputs": [],
   "source": [
    "topic_df = pd.DataFrame(response_vecs35, columns = topic_cols) \n",
    "topic_df = topic_df.astype(float)\n",
    "\n",
    "set(topic_df.sum(axis=1)) # the topic probabilities for each document should sum to approximately 1"
   ]
  },
  {
   "cell_type": "code",
   "execution_count": null,
   "id": "2985fea1",
   "metadata": {},
   "outputs": [],
   "source": [
    "topic_df[\"row\"] = [i for i in range(topic_df.shape[0])]"
   ]
  },
  {
   "cell_type": "code",
   "execution_count": null,
   "id": "f82aeea1",
   "metadata": {},
   "outputs": [],
   "source": [
    "df = df.merge(topic_df, on=\"row\")\n",
    "df.shape"
   ]
  },
  {
   "cell_type": "code",
   "execution_count": null,
   "id": "4d6c1fca",
   "metadata": {},
   "outputs": [],
   "source": [
    "df.head()"
   ]
  },
  {
   "cell_type": "code",
   "execution_count": null,
   "id": "89daf1b5",
   "metadata": {},
   "outputs": [],
   "source": [
    "df.columns"
   ]
  },
  {
   "cell_type": "code",
   "execution_count": null,
   "id": "b2bc29c7",
   "metadata": {},
   "outputs": [],
   "source": [
    "df.to_csv(\"df_for_comparison_k35.csv\")"
   ]
  }
 ],
 "metadata": {
  "kernelspec": {
   "display_name": "Python 3",
   "language": "python",
   "name": "python3"
  },
  "language_info": {
   "codemirror_mode": {
    "name": "ipython",
    "version": 3
   },
   "file_extension": ".py",
   "mimetype": "text/x-python",
   "name": "python",
   "nbconvert_exporter": "python",
   "pygments_lexer": "ipython3",
   "version": "3.9.12"
  }
 },
 "nbformat": 4,
 "nbformat_minor": 5
}
